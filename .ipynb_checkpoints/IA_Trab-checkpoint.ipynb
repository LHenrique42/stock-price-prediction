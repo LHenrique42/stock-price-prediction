{
 "cells": [
  {
   "cell_type": "code",
   "execution_count": null,
   "metadata": {
    "colab": {
     "base_uri": "https://localhost:8080/",
     "height": 84
    },
    "colab_type": "code",
    "id": "DkZTYq4aEMFf",
    "outputId": "5c644380-3315-4e13-8422-2c7cfacd56bb"
   },
   "outputs": [],
   "source": [
    "import numpy\n",
    "import matplotlib.pyplot as plt\n",
    "import pandas as pd\n",
    "import math\n",
    "from keras.models import Sequential\n",
    "from keras.layers import Dense\n",
    "from keras.layers import LSTM\n",
    "from sklearn.preprocessing import MinMaxScaler\n",
    "from sklearn.metrics import mean_squared_error"
   ]
  },
  {
   "cell_type": "code",
   "execution_count": null,
   "metadata": {
    "colab": {
     "base_uri": "https://localhost:8080/",
     "height": 36
    },
    "colab_type": "code",
    "id": "1u8-ZwLOD6dT",
    "outputId": "5a53ac85-4bc8-4817-9801-60ca1903c357"
   },
   "outputs": [],
   "source": []
  },
  {
   "cell_type": "code",
   "execution_count": null,
   "metadata": {
    "colab": {
     "base_uri": "https://localhost:8080/",
     "height": 204
    },
    "colab_type": "code",
    "id": "SuBPTyZoEZuk",
    "outputId": "1151179a-d88b-4faf-a09c-d5f1923c2747"
   },
   "outputs": [],
   "source": [
    "#df = pd.read_csv('PETR3 Dados Históricos.csv' , header=0)\n",
    " \n",
    "df = pd.read_csv('ITSA4 Dados Históricos.csv' , header=0)\n",
    "\n",
    "#downloaded.GetContentFile('SUZB3 Dados Históricos.csv')  \n",
    "#df = pd.read_csv('SUZB3 Dados Históricos.csv' , header=0)\n",
    "\n",
    "df.head()"
   ]
  },
  {
   "cell_type": "code",
   "execution_count": null,
   "metadata": {
    "colab": {
     "base_uri": "https://localhost:8080/",
     "height": 1000
    },
    "colab_type": "code",
    "id": "Wk-CDn5TJoNw",
    "outputId": "656c0359-53f3-46aa-e06d-348e67df51bd"
   },
   "outputs": [],
   "source": [
    "plt.figure(figsize = (20,9))\n",
    "plt.plot(range(df.shape[0]),(df['Abertura']))\n",
    "plt.xticks(range(0,df.shape[0],500),df['Data'].loc[::500],rotation=45)\n",
    "plt.xlabel('Data',fontsize=16)\n",
    "plt.ylabel('Preço',fontsize=18)\n",
    "plt.title('Preço Abertura')\n",
    "plt.show()\n",
    "\n",
    "plt.figure(figsize = (20,9))\n",
    "plt.plot(range(df.shape[0]),(df['Último']))\n",
    "plt.xticks(range(0,df.shape[0],500),df['Data'].loc[::500],rotation=45)\n",
    "plt.xlabel('Data',fontsize=16)\n",
    "plt.ylabel('Preço',fontsize=18)\n",
    "plt.title('Último Preço')\n",
    "plt.show()\n",
    "\n",
    "plt.figure(figsize = (20,9))\n",
    "plt.plot(range(df.shape[0]),(df['Máxima']))\n",
    "plt.xticks(range(0,df.shape[0],500),df['Data'].loc[::500],rotation=45)\n",
    "plt.xlabel('Data',fontsize=16)\n",
    "plt.ylabel('Preço',fontsize=18)\n",
    "plt.title('Máxima do dia')\n",
    "plt.show()\n",
    "\n",
    "plt.figure(figsize = (20,9))\n",
    "plt.plot(range(df.shape[0]),(df['Mínima']))\n",
    "plt.xticks(range(0,df.shape[0],500),df['Data'].loc[::500],rotation=45)\n",
    "plt.xlabel('Data',fontsize=16)\n",
    "plt.ylabel('Preço',fontsize=18)\n",
    "plt.title('Mínima do dia')\n",
    "plt.show()"
   ]
  },
  {
   "cell_type": "code",
   "execution_count": null,
   "metadata": {
    "colab": {},
    "colab_type": "code",
    "id": "g-WTVzrWEhEX"
   },
   "outputs": [],
   "source": [
    "# fix random seed para reprodução\n",
    "numpy.random.seed(10)\n",
    "\n",
    "dataset = df['Abertura']\n",
    "dataset = dataset.astype('float32')"
   ]
  },
  {
   "cell_type": "code",
   "execution_count": null,
   "metadata": {
    "colab": {},
    "colab_type": "code",
    "id": "XeBiBzeuE6LG"
   },
   "outputs": [],
   "source": [
    "data = dataset.values"
   ]
  },
  {
   "cell_type": "code",
   "execution_count": null,
   "metadata": {
    "colab": {},
    "colab_type": "code",
    "id": "jcHjurP8FTqc"
   },
   "outputs": [],
   "source": [
    "# normalizando os dados\n",
    "data= data.reshape(-1, 1)\n",
    "scaler = MinMaxScaler(feature_range=(0, 1))\n",
    "data = scaler.fit_transform(data)"
   ]
  },
  {
   "cell_type": "code",
   "execution_count": null,
   "metadata": {
    "colab": {
     "base_uri": "https://localhost:8080/",
     "height": 36
    },
    "colab_type": "code",
    "id": "7BbcX391GWV5",
    "outputId": "dc1b116a-d2ea-43d7-c4ee-00b32aae9c0d"
   },
   "outputs": [],
   "source": [
    "# dividir em treino e teste\n",
    "train_size = int(len(data) * 0.70)\n",
    "test_size = len(data) - train_size\n",
    "train, test = data[0:train_size,:], data[train_size:len(data),:]\n",
    "print(len(train), len(test))"
   ]
  },
  {
   "cell_type": "code",
   "execution_count": null,
   "metadata": {
    "colab": {},
    "colab_type": "code",
    "id": "Si7pgNoTGk0x"
   },
   "outputs": [],
   "source": [
    "# conversão um array de valores em uma matriz\n",
    "def create_dataset(dataset, look_back=1):\n",
    "\tdataX, dataY = [], []\n",
    "\tfor i in range(len(dataset)-look_back-1):\n",
    "\t\ta = dataset[i:(i+look_back), 0]\n",
    "\t\tdataX.append(a)\n",
    "\t\tdataY.append(dataset[i + look_back, 0])\n",
    "\treturn numpy.array(dataX), numpy.array(dataY)"
   ]
  },
  {
   "cell_type": "code",
   "execution_count": null,
   "metadata": {
    "colab": {},
    "colab_type": "code",
    "id": "NsPrrmWZGmGu"
   },
   "outputs": [],
   "source": [
    "# reshape em X=t and Y=t+look_back\n",
    "look_back = 1\n",
    "trainX, trainY = create_dataset(train, look_back)\n",
    "testX, testY = create_dataset(test, look_back)"
   ]
  },
  {
   "cell_type": "code",
   "execution_count": null,
   "metadata": {
    "colab": {},
    "colab_type": "code",
    "id": "lW26yuGmGpBp"
   },
   "outputs": [],
   "source": [
    "# reshape entrada em [samples, time steps, features]\n",
    "trainX = numpy.reshape(trainX, (trainX.shape[0], 1, trainX.shape[1]))\n",
    "testX = numpy.reshape(testX, (testX.shape[0], 1, testX.shape[1]))"
   ]
  },
  {
   "cell_type": "code",
   "execution_count": null,
   "metadata": {
    "colab": {
     "base_uri": "https://localhost:8080/",
     "height": 112
    },
    "colab_type": "code",
    "id": "XZUYCznFGrmU",
    "outputId": "a8554cd2-46c4-41b6-e2b1-b906e84b2dc4"
   },
   "outputs": [],
   "source": [
    "# Criação da rede\n",
    "model = Sequential()\n",
    "model.add(LSTM(4, input_shape=(1, look_back), return_sequences=True))\n",
    "model.add(LSTM(4, input_shape=(1, look_back)))\n",
    "model.add(Dense(1))\n",
    "model.compile(loss='mean_squared_error', optimizer='adam')\n",
    "model.fit(trainX, trainY, epochs=2, batch_size=1, verbose=2)"
   ]
  },
  {
   "cell_type": "code",
   "execution_count": null,
   "metadata": {
    "colab": {
     "base_uri": "https://localhost:8080/",
     "height": 55
    },
    "colab_type": "code",
    "id": "C4xhMJszGt5H",
    "outputId": "38bf3f5f-0970-4bf3-f10e-f393577c3949"
   },
   "outputs": [],
   "source": [
    "# predições\n",
    "trainPredict = model.predict(trainX)\n",
    "testPredict = model.predict(testX)\n",
    "\n",
    "# inverter predições\n",
    "trainPredict = scaler.inverse_transform(trainPredict)\n",
    "trainY = scaler.inverse_transform([trainY])\n",
    "testPredict = scaler.inverse_transform(testPredict)\n",
    "testY = scaler.inverse_transform([testY])\n",
    "\n",
    "# calculo do RMSE\n",
    "trainScore = math.sqrt(mean_squared_error(trainY[0], trainPredict[:,0]))\n",
    "print('Treino: %.2f RMSE' % (trainScore))\n",
    "testScore = math.sqrt(mean_squared_error(testY[0], testPredict[:,0]))\n",
    "print('Teste: %.2f RMSE' % (testScore))"
   ]
  },
  {
   "cell_type": "code",
   "execution_count": null,
   "metadata": {
    "colab": {
     "base_uri": "https://localhost:8080/",
     "height": 573
    },
    "colab_type": "code",
    "id": "qDnIa82XG0D5",
    "outputId": "640276e6-a093-4b30-a5e9-3772dfdf4766"
   },
   "outputs": [],
   "source": [
    "# plotagem dos gráficos\n",
    "trainPredictPlot = numpy.empty_like(data)\n",
    "trainPredictPlot[:, :] = numpy.nan\n",
    "trainPredictPlot[look_back:len(trainPredict)+look_back, :] = trainPredict\n",
    "\n",
    "testPredictPlot = numpy.empty_like(data)\n",
    "testPredictPlot[:, :] = numpy.nan\n",
    "testPredictPlot[len(trainPredict)+(look_back*2)+1:len(data)-1, :] = testPredict\n",
    "\n",
    "plt.figure(figsize = (18,9))\n",
    "plt.plot(scaler.inverse_transform(data), label = 'Real')\n",
    "plt.plot(trainPredictPlot, label = 'Treino')\n",
    "plt.plot(testPredictPlot, label = 'Teste')\n",
    "plt.title(\"Predição preço de abertura ITSA4 com: 1 timestep, 2 épocas, 4 unidades/blocos nas 2 camadas LSTM e 70% dos dados para treino e o restante para teste.\")\n",
    "plt.legend(fontsize=18)\n",
    "plt.show()"
   ]
  },
  {
   "cell_type": "code",
   "execution_count": null,
   "metadata": {},
   "outputs": [],
   "source": []
  }
 ],
 "metadata": {
  "colab": {
   "collapsed_sections": [],
   "name": "IA.Trab.ipynb",
   "provenance": []
  },
  "kernelspec": {
   "display_name": "Python 3",
   "language": "python",
   "name": "python3"
  },
  "language_info": {
   "codemirror_mode": {
    "name": "ipython",
    "version": 3
   },
   "file_extension": ".py",
   "mimetype": "text/x-python",
   "name": "python",
   "nbconvert_exporter": "python",
   "pygments_lexer": "ipython3",
   "version": "3.8.3"
  }
 },
 "nbformat": 4,
 "nbformat_minor": 1
}
